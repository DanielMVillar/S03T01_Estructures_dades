{
 "cells": [
  {
   "cell_type": "markdown",
   "id": "4e8b3477",
   "metadata": {},
   "source": [
    "### Exercici 1\n",
    "Crea una llista que agrupi els mesos de l’any en trimestres (1T: Gener, Febrer i Març, 2T: Abril, Maig, Juny...), és a dir, una llista amb 4 llistes dins."
   ]
  },
  {
   "cell_type": "code",
   "execution_count": 180,
   "id": "00bf7276",
   "metadata": {},
   "outputs": [],
   "source": [
    "mesos = [[\"Gener\", \"Febrer\", \"Març\"],[\"Abril\", \"Maig\", \"Juny\"],[\"Juliol\", \"Agost\", \"Setembre\"],[\"Octubre\", \"Novembre\", \"Desembre\"]]"
   ]
  },
  {
   "cell_type": "markdown",
   "id": "d4a81ae1",
   "metadata": {},
   "source": [
    "### Exercici 2\n",
    "Crea un codi que et permeti accedir a:\n",
    "\n"
   ]
  },
  {
   "cell_type": "markdown",
   "id": "91306bd8",
   "metadata": {},
   "source": [
    "#### El segon mes del primer trimestre"
   ]
  },
  {
   "cell_type": "code",
   "execution_count": 181,
   "id": "3e6c330a",
   "metadata": {},
   "outputs": [
    {
     "name": "stdout",
     "output_type": "stream",
     "text": [
      "Febrer\n"
     ]
    }
   ],
   "source": [
    "print(mesos[0][1])"
   ]
  },
  {
   "cell_type": "markdown",
   "id": "f94f5fab",
   "metadata": {},
   "source": [
    "#### Els mesos del primer trimestre"
   ]
  },
  {
   "cell_type": "code",
   "execution_count": 182,
   "id": "0a87f904",
   "metadata": {},
   "outputs": [
    {
     "name": "stdout",
     "output_type": "stream",
     "text": [
      "['Gener', 'Febrer', 'Març']\n"
     ]
    }
   ],
   "source": [
    "print(mesos[0])"
   ]
  },
  {
   "cell_type": "markdown",
   "id": "57963a65",
   "metadata": {},
   "source": [
    "\n",
    "#### Setembre i octubre"
   ]
  },
  {
   "cell_type": "code",
   "execution_count": 183,
   "id": "6fb4e473",
   "metadata": {},
   "outputs": [
    {
     "name": "stdout",
     "output_type": "stream",
     "text": [
      "Setembre\n",
      "Octubre\n"
     ]
    }
   ],
   "source": [
    "print(mesos[2][2])\n",
    "print(mesos[3][0])"
   ]
  },
  {
   "cell_type": "markdown",
   "id": "f8936d49",
   "metadata": {},
   "source": [
    "### Exercici 3\n",
    "Crea una llista amb nombres desordenats i respon a les següents preguntes:\n",
    "\n",
    "\n",
    "\n",
    "\n"
   ]
  },
  {
   "cell_type": "code",
   "execution_count": 184,
   "id": "90ca9b39",
   "metadata": {},
   "outputs": [],
   "source": [
    "nombres = [10, 34, 45, 4, 33, 78, 61, 12, 3, 99, 187, 21, 49, 88, 7, 52]"
   ]
  },
  {
   "cell_type": "markdown",
   "id": "02555c69",
   "metadata": {},
   "source": [
    "#### Quants números hi ha?"
   ]
  },
  {
   "cell_type": "code",
   "execution_count": 185,
   "id": "97b095f7",
   "metadata": {},
   "outputs": [
    {
     "name": "stdout",
     "output_type": "stream",
     "text": [
      "16\n"
     ]
    }
   ],
   "source": [
    "print(len(nombres))"
   ]
  },
  {
   "cell_type": "markdown",
   "id": "4b1bffd4",
   "metadata": {},
   "source": [
    "#### Quantes vegades apareix el número 3"
   ]
  },
  {
   "cell_type": "code",
   "execution_count": 186,
   "id": "9e7a9442",
   "metadata": {},
   "outputs": [
    {
     "name": "stdout",
     "output_type": "stream",
     "text": [
      "1\n"
     ]
    }
   ],
   "source": [
    "print(nombres.count(3))"
   ]
  },
  {
   "cell_type": "markdown",
   "id": "a186a90b",
   "metadata": {},
   "source": [
    "#### Quantes vegades apareixen els nombres 3 i 4?"
   ]
  },
  {
   "cell_type": "code",
   "execution_count": 187,
   "id": "f3d8cf16",
   "metadata": {},
   "outputs": [
    {
     "name": "stdout",
     "output_type": "stream",
     "text": [
      "2\n"
     ]
    }
   ],
   "source": [
    "print(nombres.count(3)+nombres.count(4))"
   ]
  },
  {
   "cell_type": "markdown",
   "id": "68d341a4",
   "metadata": {},
   "source": [
    "#### Quin és el número més gran?"
   ]
  },
  {
   "cell_type": "code",
   "execution_count": 188,
   "id": "9cec05b2",
   "metadata": {},
   "outputs": [
    {
     "name": "stdout",
     "output_type": "stream",
     "text": [
      "187\n"
     ]
    }
   ],
   "source": [
    "nombres.sort(reverse = True)\n",
    "print(nombres[0])"
   ]
  },
  {
   "cell_type": "markdown",
   "id": "53aa5e23",
   "metadata": {},
   "source": [
    "#### Quins són els 3 números més petits?"
   ]
  },
  {
   "cell_type": "code",
   "execution_count": 189,
   "id": "ff7914f3",
   "metadata": {},
   "outputs": [
    {
     "name": "stdout",
     "output_type": "stream",
     "text": [
      "[7, 4, 3]\n"
     ]
    }
   ],
   "source": [
    "print(nombres[-3:])"
   ]
  },
  {
   "cell_type": "markdown",
   "id": "04de52d1",
   "metadata": {},
   "source": [
    "#### Quin és el rang d’aquesta llista?"
   ]
  },
  {
   "cell_type": "code",
   "execution_count": 190,
   "id": "2802b978",
   "metadata": {},
   "outputs": [
    {
     "name": "stdout",
     "output_type": "stream",
     "text": [
      "184\n"
     ]
    }
   ],
   "source": [
    "print(nombres[0]-nombres[-1])"
   ]
  },
  {
   "cell_type": "markdown",
   "id": "816f2601",
   "metadata": {},
   "source": [
    "### Exercici 4\n",
    "Crea un diccionari de la següent forma i respon a les preguntes:\n",
    "\n",
    "\n",
    "\n",
    "\n"
   ]
  },
  {
   "cell_type": "code",
   "execution_count": 191,
   "id": "52692d2d",
   "metadata": {},
   "outputs": [],
   "source": [
    "compra = { \"Pomes\" : {\"Qty\": 5, \"€\": 0.42}, \"Peres\" : {\"Qty\": 3, \"€\": 0.66} }"
   ]
  },
  {
   "cell_type": "markdown",
   "id": "3ab235dd",
   "metadata": {},
   "source": [
    "#### Afegeix alguna fruita més"
   ]
  },
  {
   "cell_type": "code",
   "execution_count": 192,
   "id": "6247178a",
   "metadata": {},
   "outputs": [
    {
     "name": "stdout",
     "output_type": "stream",
     "text": [
      "{'Pomes': {'Qty': 5, '€': 0.42}, 'Peres': {'Qty': 3, '€': 0.66}, 'Taronges': {'Qty': 4, '€': 0.35}}\n"
     ]
    }
   ],
   "source": [
    "compra.update({\"Taronges\" : {\"Qty\": 4, \"€\": 0.35}})\n",
    "print(compra)"
   ]
  },
  {
   "cell_type": "markdown",
   "id": "a39c56b6",
   "metadata": {},
   "source": [
    "#### Quant han costat les peres en total?"
   ]
  },
  {
   "cell_type": "code",
   "execution_count": 193,
   "id": "df13bea5",
   "metadata": {},
   "outputs": [
    {
     "name": "stdout",
     "output_type": "stream",
     "text": [
      "0.66\n"
     ]
    }
   ],
   "source": [
    "print(compra[\"Peres\"][\"€\"])"
   ]
  },
  {
   "cell_type": "markdown",
   "id": "dcfc9fa3",
   "metadata": {},
   "source": [
    "#### Quantes fruites hem comprat en total?"
   ]
  },
  {
   "cell_type": "code",
   "execution_count": 196,
   "id": "d9346df5",
   "metadata": {},
   "outputs": [
    {
     "name": "stdout",
     "output_type": "stream",
     "text": [
      "12\n"
     ]
    }
   ],
   "source": [
    "total = 0\n",
    "for x in compra:\n",
    "    total = compra[x][\"Qty\"] + total\n",
    "print(total)"
   ]
  },
  {
   "cell_type": "markdown",
   "id": "43c4cf1e",
   "metadata": {},
   "source": [
    "#### Quina és la fruita més cara?"
   ]
  },
  {
   "cell_type": "code",
   "execution_count": 195,
   "id": "433f0563",
   "metadata": {},
   "outputs": [
    {
     "name": "stdout",
     "output_type": "stream",
     "text": [
      "Peres\n"
     ]
    }
   ],
   "source": [
    "llista_preus = []\n",
    "for x in compra:\n",
    "    llista_preus.append(compra[x]['€'])\n",
    "llista_preus.sort()\n",
    "preu_car = llista_preus[-1]\n",
    "\n",
    "for x in compra:\n",
    "    if compra[x]['€'] == preu_car: \n",
    "        fruta_cara = x\n",
    "        print(fruta_cara)    "
   ]
  }
 ],
 "metadata": {
  "kernelspec": {
   "display_name": "Python 3",
   "language": "python",
   "name": "python3"
  },
  "language_info": {
   "codemirror_mode": {
    "name": "ipython",
    "version": 3
   },
   "file_extension": ".py",
   "mimetype": "text/x-python",
   "name": "python",
   "nbconvert_exporter": "python",
   "pygments_lexer": "ipython3",
   "version": "3.9.1"
  }
 },
 "nbformat": 4,
 "nbformat_minor": 5
}
